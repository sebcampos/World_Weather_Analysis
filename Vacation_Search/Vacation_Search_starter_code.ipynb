{
 "cells": [
  {
   "cell_type": "markdown",
   "metadata": {},
   "source": [
    "## Deliverable 2. Create a Customer Travel Destinations Map."
   ]
  },
  {
   "cell_type": "code",
   "execution_count": 27,
   "metadata": {},
   "outputs": [],
   "source": [
    "# Dependencies and Setup\n",
    "from IPython.display import clear_output\n",
    "import time\n",
    "import pandas as pd\n",
    "import requests\n",
    "import gmaps\n",
    "\n",
    "# Import API key\n",
    "from config import g_key\n",
    "\n",
    "# Configure gmaps API key\n",
    "gmaps.configure(api_key=g_key)\n"
   ]
  },
  {
   "cell_type": "code",
   "execution_count": 28,
   "metadata": {},
   "outputs": [
    {
     "data": {
      "text/html": [
       "<div>\n",
       "<style scoped>\n",
       "    .dataframe tbody tr th:only-of-type {\n",
       "        vertical-align: middle;\n",
       "    }\n",
       "\n",
       "    .dataframe tbody tr th {\n",
       "        vertical-align: top;\n",
       "    }\n",
       "\n",
       "    .dataframe thead th {\n",
       "        text-align: right;\n",
       "    }\n",
       "</style>\n",
       "<table border=\"1\" class=\"dataframe\">\n",
       "  <thead>\n",
       "    <tr style=\"text-align: right;\">\n",
       "      <th></th>\n",
       "      <th>City</th>\n",
       "      <th>Lat</th>\n",
       "      <th>Lng</th>\n",
       "      <th>Max_Temp</th>\n",
       "      <th>Humidity</th>\n",
       "      <th>Cloudiness</th>\n",
       "      <th>Wind_Speed</th>\n",
       "      <th>Country</th>\n",
       "      <th>Date</th>\n",
       "      <th>Weather_Description</th>\n",
       "    </tr>\n",
       "  </thead>\n",
       "  <tbody>\n",
       "    <tr>\n",
       "      <th>0</th>\n",
       "      <td>new norfolk</td>\n",
       "      <td>-42.78</td>\n",
       "      <td>147.06</td>\n",
       "      <td>51.01</td>\n",
       "      <td>58</td>\n",
       "      <td>20</td>\n",
       "      <td>3.00</td>\n",
       "      <td>AU</td>\n",
       "      <td>2020-10-24 22:52:05</td>\n",
       "      <td>few clouds</td>\n",
       "    </tr>\n",
       "    <tr>\n",
       "      <th>1</th>\n",
       "      <td>bluff</td>\n",
       "      <td>-46.60</td>\n",
       "      <td>168.33</td>\n",
       "      <td>65.32</td>\n",
       "      <td>57</td>\n",
       "      <td>91</td>\n",
       "      <td>18.86</td>\n",
       "      <td>NZ</td>\n",
       "      <td>2020-10-24 22:52:05</td>\n",
       "      <td>overcast clouds</td>\n",
       "    </tr>\n",
       "    <tr>\n",
       "      <th>2</th>\n",
       "      <td>pevek</td>\n",
       "      <td>69.70</td>\n",
       "      <td>170.31</td>\n",
       "      <td>27.32</td>\n",
       "      <td>91</td>\n",
       "      <td>0</td>\n",
       "      <td>13.42</td>\n",
       "      <td>RU</td>\n",
       "      <td>2020-10-24 22:49:12</td>\n",
       "      <td>clear sky</td>\n",
       "    </tr>\n",
       "    <tr>\n",
       "      <th>3</th>\n",
       "      <td>gambela</td>\n",
       "      <td>8.25</td>\n",
       "      <td>34.58</td>\n",
       "      <td>70.63</td>\n",
       "      <td>88</td>\n",
       "      <td>26</td>\n",
       "      <td>4.09</td>\n",
       "      <td>ET</td>\n",
       "      <td>2020-10-24 22:52:06</td>\n",
       "      <td>scattered clouds</td>\n",
       "    </tr>\n",
       "    <tr>\n",
       "      <th>4</th>\n",
       "      <td>margate</td>\n",
       "      <td>51.38</td>\n",
       "      <td>1.39</td>\n",
       "      <td>55.00</td>\n",
       "      <td>86</td>\n",
       "      <td>94</td>\n",
       "      <td>7.00</td>\n",
       "      <td>GB</td>\n",
       "      <td>2020-10-24 22:49:39</td>\n",
       "      <td>moderate rain</td>\n",
       "    </tr>\n",
       "  </tbody>\n",
       "</table>\n",
       "</div>"
      ],
      "text/plain": [
       "          City    Lat     Lng  Max_Temp  Humidity  Cloudiness  Wind_Speed  \\\n",
       "0  new norfolk -42.78  147.06     51.01        58          20        3.00   \n",
       "1        bluff -46.60  168.33     65.32        57          91       18.86   \n",
       "2        pevek  69.70  170.31     27.32        91           0       13.42   \n",
       "3      gambela   8.25   34.58     70.63        88          26        4.09   \n",
       "4      margate  51.38    1.39     55.00        86          94        7.00   \n",
       "\n",
       "  Country                 Date Weather_Description  \n",
       "0      AU  2020-10-24 22:52:05          few clouds  \n",
       "1      NZ  2020-10-24 22:52:05     overcast clouds  \n",
       "2      RU  2020-10-24 22:49:12           clear sky  \n",
       "3      ET  2020-10-24 22:52:06    scattered clouds  \n",
       "4      GB  2020-10-24 22:49:39       moderate rain  "
      ]
     },
     "execution_count": 28,
     "metadata": {},
     "output_type": "execute_result"
    }
   ],
   "source": [
    "# 1. Import the WeatherPy_database.csv file. \n",
    "city_data_df = pd.read_csv(\"../Weather_Database/WeatherPy_database.csv\")\n",
    "city_data_df.drop(\"Unnamed: 0\", axis=1, inplace=True)\n",
    "city_data_df.head()"
   ]
  },
  {
   "cell_type": "code",
   "execution_count": 29,
   "metadata": {},
   "outputs": [
    {
     "name": "stdout",
     "output_type": "stream",
     "text": [
      "Please enter your prefered minumum temperature followed by your prefered maximum temperature seperated by a ',':\n",
      " 60,80\n"
     ]
    }
   ],
   "source": [
    "# 2. Prompt the user to enter minimum and maximum temperature criteria \n",
    "def temperature_input():\n",
    "    try:\n",
    "        min_temp, max_tep = input(\"Please enter your prefered minumum temperature followed by your prefered maximum temperature seperated by a ',':\\n \").strip().split(\",\")\n",
    "    except ValueError:\n",
    "        clear_output()\n",
    "        print(\"\\nPlease Enter 2 integers seperated by a ','\")\n",
    "        time.sleep(3)\n",
    "        clear_output()\n",
    "        min_temp, max_temp = temperature_input()\n",
    "    return min_temp, max_tep\n",
    "\n",
    "\n",
    "min_temp, max_temp = temperature_input()\n",
    "   "
   ]
  },
  {
   "cell_type": "code",
   "execution_count": 30,
   "metadata": {},
   "outputs": [],
   "source": [
    "# 3. Filter the city_data_df DataFrame using the input statements to create a new DataFrame using the loc method.\n",
    "Max_Min_Temp_df=city_data_df.loc[(city_data_df.Max_Temp >= int(min_temp)) & (city_data_df.Max_Temp <= int(max_temp))]"
   ]
  },
  {
   "cell_type": "code",
   "execution_count": 31,
   "metadata": {},
   "outputs": [
    {
     "name": "stdout",
     "output_type": "stream",
     "text": [
      "<class 'pandas.core.frame.DataFrame'>\n",
      "Int64Index: 823 entries, 1 to 1849\n",
      "Data columns (total 10 columns):\n",
      " #   Column               Non-Null Count  Dtype  \n",
      "---  ------               --------------  -----  \n",
      " 0   City                 823 non-null    object \n",
      " 1   Lat                  823 non-null    float64\n",
      " 2   Lng                  823 non-null    float64\n",
      " 3   Max_Temp             823 non-null    float64\n",
      " 4   Humidity             823 non-null    int64  \n",
      " 5   Cloudiness           823 non-null    int64  \n",
      " 6   Wind_Speed           823 non-null    float64\n",
      " 7   Country              821 non-null    object \n",
      " 8   Date                 823 non-null    object \n",
      " 9   Weather_Description  823 non-null    object \n",
      "dtypes: float64(4), int64(2), object(4)\n",
      "memory usage: 70.7+ KB\n"
     ]
    }
   ],
   "source": [
    "# 4a. Determine if there are any empty rows.\n",
    "Max_Min_Temp_df.info()"
   ]
  },
  {
   "cell_type": "code",
   "execution_count": 32,
   "metadata": {},
   "outputs": [],
   "source": [
    "# 4b. Drop any empty rows and create a new DataFrame that doesn’t have empty rows.\n",
    "Max_Min_Temp_df=Max_Min_Temp_df.dropna()"
   ]
  },
  {
   "cell_type": "code",
   "execution_count": 33,
   "metadata": {},
   "outputs": [
    {
     "data": {
      "text/html": [
       "<div>\n",
       "<style scoped>\n",
       "    .dataframe tbody tr th:only-of-type {\n",
       "        vertical-align: middle;\n",
       "    }\n",
       "\n",
       "    .dataframe tbody tr th {\n",
       "        vertical-align: top;\n",
       "    }\n",
       "\n",
       "    .dataframe thead th {\n",
       "        text-align: right;\n",
       "    }\n",
       "</style>\n",
       "<table border=\"1\" class=\"dataframe\">\n",
       "  <thead>\n",
       "    <tr style=\"text-align: right;\">\n",
       "      <th></th>\n",
       "      <th>City</th>\n",
       "      <th>Country</th>\n",
       "      <th>Max_Temp</th>\n",
       "      <th>Weather_Description</th>\n",
       "      <th>Lat</th>\n",
       "      <th>Lng</th>\n",
       "      <th>Hotel Name</th>\n",
       "    </tr>\n",
       "  </thead>\n",
       "  <tbody>\n",
       "    <tr>\n",
       "      <th>1</th>\n",
       "      <td>bluff</td>\n",
       "      <td>NZ</td>\n",
       "      <td>65.32</td>\n",
       "      <td>overcast clouds</td>\n",
       "      <td>-46.60</td>\n",
       "      <td>168.33</td>\n",
       "      <td></td>\n",
       "    </tr>\n",
       "    <tr>\n",
       "      <th>3</th>\n",
       "      <td>gambela</td>\n",
       "      <td>ET</td>\n",
       "      <td>70.63</td>\n",
       "      <td>scattered clouds</td>\n",
       "      <td>8.25</td>\n",
       "      <td>34.58</td>\n",
       "      <td></td>\n",
       "    </tr>\n",
       "    <tr>\n",
       "      <th>8</th>\n",
       "      <td>bondoukou</td>\n",
       "      <td>CI</td>\n",
       "      <td>73.65</td>\n",
       "      <td>scattered clouds</td>\n",
       "      <td>8.03</td>\n",
       "      <td>-2.80</td>\n",
       "      <td></td>\n",
       "    </tr>\n",
       "    <tr>\n",
       "      <th>10</th>\n",
       "      <td>hermanus</td>\n",
       "      <td>ZA</td>\n",
       "      <td>62.01</td>\n",
       "      <td>scattered clouds</td>\n",
       "      <td>-34.42</td>\n",
       "      <td>19.23</td>\n",
       "      <td></td>\n",
       "    </tr>\n",
       "    <tr>\n",
       "      <th>12</th>\n",
       "      <td>avarua</td>\n",
       "      <td>CK</td>\n",
       "      <td>77.00</td>\n",
       "      <td>broken clouds</td>\n",
       "      <td>-21.21</td>\n",
       "      <td>-159.78</td>\n",
       "      <td></td>\n",
       "    </tr>\n",
       "    <tr>\n",
       "      <th>15</th>\n",
       "      <td>nishihara</td>\n",
       "      <td>JP</td>\n",
       "      <td>71.60</td>\n",
       "      <td>few clouds</td>\n",
       "      <td>26.18</td>\n",
       "      <td>127.76</td>\n",
       "      <td></td>\n",
       "    </tr>\n",
       "    <tr>\n",
       "      <th>16</th>\n",
       "      <td>ukiah</td>\n",
       "      <td>US</td>\n",
       "      <td>73.99</td>\n",
       "      <td>clear sky</td>\n",
       "      <td>39.15</td>\n",
       "      <td>-123.21</td>\n",
       "      <td></td>\n",
       "    </tr>\n",
       "    <tr>\n",
       "      <th>20</th>\n",
       "      <td>cabedelo</td>\n",
       "      <td>BR</td>\n",
       "      <td>77.00</td>\n",
       "      <td>scattered clouds</td>\n",
       "      <td>-6.98</td>\n",
       "      <td>-34.83</td>\n",
       "      <td></td>\n",
       "    </tr>\n",
       "    <tr>\n",
       "      <th>21</th>\n",
       "      <td>alice springs</td>\n",
       "      <td>AU</td>\n",
       "      <td>64.40</td>\n",
       "      <td>clear sky</td>\n",
       "      <td>-23.70</td>\n",
       "      <td>133.88</td>\n",
       "      <td></td>\n",
       "    </tr>\n",
       "    <tr>\n",
       "      <th>24</th>\n",
       "      <td>sidi ali</td>\n",
       "      <td>DZ</td>\n",
       "      <td>60.57</td>\n",
       "      <td>clear sky</td>\n",
       "      <td>36.10</td>\n",
       "      <td>0.42</td>\n",
       "      <td></td>\n",
       "    </tr>\n",
       "  </tbody>\n",
       "</table>\n",
       "</div>"
      ],
      "text/plain": [
       "             City Country  Max_Temp Weather_Description    Lat     Lng  \\\n",
       "1           bluff      NZ     65.32     overcast clouds -46.60  168.33   \n",
       "3         gambela      ET     70.63    scattered clouds   8.25   34.58   \n",
       "8       bondoukou      CI     73.65    scattered clouds   8.03   -2.80   \n",
       "10       hermanus      ZA     62.01    scattered clouds -34.42   19.23   \n",
       "12         avarua      CK     77.00       broken clouds -21.21 -159.78   \n",
       "15      nishihara      JP     71.60          few clouds  26.18  127.76   \n",
       "16          ukiah      US     73.99           clear sky  39.15 -123.21   \n",
       "20       cabedelo      BR     77.00    scattered clouds  -6.98  -34.83   \n",
       "21  alice springs      AU     64.40           clear sky -23.70  133.88   \n",
       "24       sidi ali      DZ     60.57           clear sky  36.10    0.42   \n",
       "\n",
       "   Hotel Name  \n",
       "1              \n",
       "3              \n",
       "8              \n",
       "10             \n",
       "12             \n",
       "15             \n",
       "16             \n",
       "20             \n",
       "21             \n",
       "24             "
      ]
     },
     "execution_count": 33,
     "metadata": {},
     "output_type": "execute_result"
    }
   ],
   "source": [
    "# 5a. Create DataFrame called hotel_df to store hotel names along with city, country, max temp, and coordinates.\n",
    "hotel_df = Max_Min_Temp_df[[\"City\", \"Country\", \"Max_Temp\", \"Weather_Description\", \"Lat\", \"Lng\"]].copy()\n",
    "\n",
    "# 5b. Create a new column \"Hotel Name\"\n",
    "hotel_df[\"Hotel Name\"] = \"\"\n",
    "hotel_df.head(10)"
   ]
  },
  {
   "cell_type": "code",
   "execution_count": 34,
   "metadata": {},
   "outputs": [
    {
     "name": "stdout",
     "output_type": "stream",
     "text": [
      "Success 820 of 821 | 99.88%\n",
      "------------------------------\n",
      "Completed\n",
      "------------------------------\n"
     ]
    }
   ],
   "source": [
    "# 6a. Set parameters to search for hotels with 5000 meters.\n",
    "params = {\n",
    "    \"radius\": 5000,\n",
    "    \"type\": \"lodging\",\n",
    "    \"key\": g_key\n",
    "}\n",
    "counter=0\n",
    "index_2=0\n",
    "# 6b. Iterate through the hotel DataFrame.\n",
    "for index,row in hotel_df.iterrows():  \n",
    "    # 6c. Get latitude and longitude from DataFrame\n",
    "    lat = row[\"Lat\"]\n",
    "    lng = row[\"Lng\"]\n",
    "    \n",
    "    # 6d. Set up the base URL for the Google Directions API to get JSON data.\n",
    "    base_url = \"https://maps.googleapis.com/maps/api/place/nearbysearch/json\"\n",
    "    \n",
    "    #Add lat and lng to params dictionary\n",
    "    params[\"location\"] = f\"{lat},{lng}\"\n",
    "    \n",
    "    # 6e. Make request and retrieve the JSON data from the search. \n",
    "    response=requests.get(base_url,params=params).json()\n",
    "    \n",
    "    # 6f. Get the first hotel from the results and store the name, if a hotel isn't found skip the city.\n",
    "    try:\n",
    "        hotel_df.loc[index, \"Hotel Name\"] = response[\"results\"][0][\"name\"]\n",
    "        print(f'Success {index_2} of {len(hotel_df)} | {\"{:.2f}\".format((index_2/len(hotel_df)*100))}%')\n",
    "        counter+=1\n",
    "        index_2+=1\n",
    "        if counter == 10:\n",
    "            clear_output()\n",
    "            counter=0\n",
    "        \n",
    "    except IndexError:\n",
    "        print(f'\\nFaliure {index_2} of {len(hotel_df)} | {\"{:.2f}\".format((index_2/len(hotel_df.index)*100))}% \\n\\t\\tSkipping...\\n')\n",
    "        counter+=1\n",
    "        index_2+=1\n",
    "        if counter == 10:\n",
    "            clear_output()\n",
    "            counter=0\n",
    "        pass\n",
    "print(\"-\"*30+\"\\nCompleted\\t100.00%\\n\"+\"-\"*30)"
   ]
  },
  {
   "cell_type": "code",
   "execution_count": 59,
   "metadata": {},
   "outputs": [
    {
     "data": {
      "text/plain": [
       "pandas.core.frame.DataFrame"
      ]
     },
     "execution_count": 59,
     "metadata": {},
     "output_type": "execute_result"
    }
   ],
   "source": [
    "# 7. Drop the rows where there is no Hotel Name.\n",
    "clean_hotel_df=hotel_df.dropna().drop_duplicates()\n",
    "type(clean_hotel_df)"
   ]
  },
  {
   "cell_type": "code",
   "execution_count": 60,
   "metadata": {},
   "outputs": [],
   "source": [
    "# 8a. Create the output File (CSV)\n",
    "output_data_file=\"WeatherPy_vacation.csv\"\n",
    "# 8b. Export the City_Data into a csv\n",
    "clean_hotel_df.to_csv(output_data_file, index_label=\"City_ID\")"
   ]
  },
  {
   "cell_type": "code",
   "execution_count": 61,
   "metadata": {},
   "outputs": [
    {
     "data": {
      "application/vnd.jupyter.widget-view+json": {
       "model_id": "d53cf2f351f7445b8c695d611231e703",
       "version_major": 2,
       "version_minor": 0
      },
      "text/plain": [
       "Figure(layout=FigureLayout(height='420px'))"
      ]
     },
     "metadata": {},
     "output_type": "display_data"
    }
   ],
   "source": [
    "\n",
    "### Heat_Layer_Map ###\n",
    "\n",
    "\n",
    "# 11a. Add a marker layer for each city to the map. \n",
    "info_box_template = \"\"\"\n",
    "<dl>\n",
    "<dt>Hotel Name</dt><dd>{Hotel Name}</dd>\n",
    "<dt>City</dt><dd>{City}</dd>\n",
    "<dt>Country</dt><dd>{Country}</dd>\n",
    "<dt>Current Weather Description and Max Temp</dt><dd>{Weather_Description} \\tMax Temp: {Max_Temp} °F</dd>\n",
    "</dl>\n",
    "\"\"\"\n",
    "hotel_info = [info_box_template.format(**row) for index, row in clean_hotel_df.iterrows()]\n",
    "# 11b. Display the figure\n",
    "# Add a heatmap of temperature for the vacation spots and a pop-up marker for each city.\n",
    "locations = clean_hotel_df[[\"Lat\", \"Lng\"]]\n",
    "max_temp = clean_hotel_df[\"Max_Temp\"]\n",
    "fig = gmaps.figure(center=(30.0, 31.0), zoom_level=1.5)\n",
    "heat_layer = gmaps.heatmap_layer(locations, weights=max_temp,dissipating=False,\n",
    "             max_intensity=300, point_radius=4)\n",
    "marker_layer = gmaps.marker_layer(locations, info_box_content=hotel_info)\n",
    "fig.add_layer(heat_layer)\n",
    "fig.add_layer(marker_layer)\n",
    "\n",
    "# Call the figure to plot the data.\n",
    "fig"
   ]
  },
  {
   "cell_type": "code",
   "execution_count": 62,
   "metadata": {},
   "outputs": [
    {
     "data": {
      "application/vnd.jupyter.widget-view+json": {
       "model_id": "05b0e4c6619e4aa39e8495d1a8290d7b",
       "version_major": 2,
       "version_minor": 0
      },
      "text/plain": [
       "Figure(layout=FigureLayout(height='420px'))"
      ]
     },
     "metadata": {},
     "output_type": "display_data"
    }
   ],
   "source": [
    "\n",
    "### Marker_Layer_Map ###\n",
    "\n",
    "\n",
    "# 11a. Add a marker layer for each city to the map. \n",
    "info_box_template = \"\"\"\n",
    "<dl>\n",
    "<dt>Hotel Name</dt><dd>{Hotel Name}</dd>\n",
    "<dt>City</dt><dd>{City}</dd>\n",
    "<dt>Country</dt><dd>{Country}</dd>\n",
    "<dt>Current Weather Description and Max Temp</dt><dd>{Weather_Description} \\tMax Temp: {Max_Temp} °F</dd>\n",
    "</dl>\n",
    "\"\"\"\n",
    "hotel_info = [info_box_template.format(**row) for index, row in clean_hotel_df.iterrows()]\n",
    "# 11b. Display the figure\n",
    "# Add a heatmap of temperature for the vacation spots and a pop-up marker for each city.\n",
    "locations = clean_hotel_df[[\"Lat\", \"Lng\"]]\n",
    "max_temp = clean_hotel_df[\"Max_Temp\"]\n",
    "fig = gmaps.figure(center=(30.0, 31.0), zoom_level=1.5,map_type=\"HYBRID\")\n",
    "marker_layer = gmaps.marker_layer(locations, info_box_content=hotel_info)\n",
    "fig.add_layer(marker_layer)\n",
    "\n",
    "# Call the figure to plot the data.\n",
    "fig"
   ]
  },
  {
   "cell_type": "code",
   "execution_count": null,
   "metadata": {},
   "outputs": [],
   "source": []
  }
 ],
 "metadata": {
  "kernelspec": {
   "display_name": "minicondavenv_bootcamp",
   "language": "python",
   "name": "minicondavenv_bootcamp"
  },
  "language_info": {
   "codemirror_mode": {
    "name": "ipython",
    "version": 3
   },
   "file_extension": ".py",
   "mimetype": "text/x-python",
   "name": "python",
   "nbconvert_exporter": "python",
   "pygments_lexer": "ipython3",
   "version": "3.7.6"
  },
  "latex_envs": {
   "LaTeX_envs_menu_present": true,
   "autoclose": false,
   "autocomplete": true,
   "bibliofile": "biblio.bib",
   "cite_by": "apalike",
   "current_citInitial": 1,
   "eqLabelWithNumbers": true,
   "eqNumInitial": 1,
   "hotkeys": {
    "equation": "Ctrl-E",
    "itemize": "Ctrl-I"
   },
   "labels_anchors": false,
   "latex_user_defs": false,
   "report_style_numbering": false,
   "user_envs_cfg": false
  }
 },
 "nbformat": 4,
 "nbformat_minor": 2
}
