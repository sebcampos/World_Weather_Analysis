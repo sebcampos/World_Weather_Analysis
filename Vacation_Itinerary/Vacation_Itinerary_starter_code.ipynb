{
 "cells": [
  {
   "cell_type": "markdown",
   "metadata": {},
   "source": [
    "## Deliverable 3. Create a Travel Itinerary Map."
   ]
  },
  {
   "cell_type": "code",
   "execution_count": 27,
   "metadata": {},
   "outputs": [],
   "source": [
    "# Dependencies and Setup\n",
    "import pandas as pd\n",
    "import requests\n",
    "import gmaps\n",
    "import random\n",
    "\n",
    "# Import API key\n",
    "from config import g_key\n",
    "\n",
    "# Configure gmaps\n",
    "gmaps.configure(api_key=g_key)"
   ]
  },
  {
   "cell_type": "code",
   "execution_count": 28,
   "metadata": {},
   "outputs": [
    {
     "data": {
      "text/plain": [
       "array(['NZ', 'ET', 'CI', 'ZA', 'CK', 'JP', 'US', 'BR', 'AU', 'DZ', 'MU',\n",
       "       'PF', 'ES', 'PT', 'PE', 'PH', 'MM', 'RE', 'MY', 'MX', 'ID', 'CN',\n",
       "       'KM', 'GT', 'KH', 'TO', 'IN', 'MG', 'UG', 'NC', 'FR', 'MW', 'NE',\n",
       "       'CF', 'IT', 'CD', 'KE', 'AO', 'UY', 'LK', 'TL', 'OM', 'VE', 'LR',\n",
       "       'CO', 'GH', 'LY', 'SO', 'LS', 'GA', 'SA', 'EC', 'AR', 'PK', 'TH',\n",
       "       'MA', 'GR', 'MZ', 'HK', 'IR', 'ZW', 'SL', 'SY', 'NP', 'LA', 'TD',\n",
       "       'SS', 'VN', 'AL', 'CV', 'YE', 'HN', 'GW', 'ML', 'TZ', 'QA', 'NG',\n",
       "       'IQ', 'TR', 'MR', 'EG'], dtype=object)"
      ]
     },
     "execution_count": 28,
     "metadata": {},
     "output_type": "execute_result"
    }
   ],
   "source": [
    "# 1. Read the WeatherPy_vacation.csv into a DataFrame.\n",
    "vacation_df = pd.read_csv(\"../Vacation_Search/WeatherPy_vacation.csv\")\n",
    "vacation_df.Country.unique()"
   ]
  },
  {
   "cell_type": "code",
   "execution_count": 29,
   "metadata": {},
   "outputs": [],
   "source": [
    "# 2. Using the template add the city name, the country code, the weather description and maximum temperature for the city.\n",
    "info_box_template = \"\"\"\n",
    "<dl>\n",
    "<dt>City</dt><dd>{City}</dd>\n",
    "<dt>Country</dt><dd>{Country}</dd>\n",
    "<dt>Current Weather Description and Max Temp</dt><dd>{Weather_Description} \\tMax Temp: {Max_Temp} °F</dd>\n",
    "</dl>\n",
    "\"\"\"\n",
    "\n",
    "# 3a. Get the data from each row and add it to the formatting template and store the data in a list.\n",
    "hotel_info = [info_box_template.format(**row) for index, row in vacation_df.iterrows()]\n",
    "\n",
    "# 3b. Get the latitude and longitude from each row and store in a new DataFrame.\n",
    "locations = vacation_df[[\"Lat\", \"Lng\"]]"
   ]
  },
  {
   "cell_type": "code",
   "execution_count": 30,
   "metadata": {},
   "outputs": [
    {
     "data": {
      "application/vnd.jupyter.widget-view+json": {
       "model_id": "a437733362a94a7eb1514b856a7906c6",
       "version_major": 2,
       "version_minor": 0
      },
      "text/plain": [
       "Figure(layout=FigureLayout(height='420px'))"
      ]
     },
     "metadata": {},
     "output_type": "display_data"
    }
   ],
   "source": [
    "# 4a. Add a marker layer for each city to the map.\n",
    "fig = gmaps.figure(center=(30.0, 31.0), zoom_level=1.5)\n",
    "fig.add_layer(gmaps.marker_layer(locations, info_box_content=hotel_info))\n",
    "# 4b. Display the figure\n",
    "fig"
   ]
  },
  {
   "cell_type": "code",
   "execution_count": 34,
   "metadata": {},
   "outputs": [],
   "source": [
    "# From the map above pick 4 cities and create a vacation itinerary route to travel between the four cities. \n",
    "# 5. Get the latitude-longitude pairs as tuples from each city DataFrame using the to_numpy function and list indexing.   \n",
    "# Hint: The starting and ending city should be the same city.\n",
    "random_country=\"US\"\n",
    "country_choices=vacation_df.loc[(vacation_df.Country==random_country)][[\"Lat\",\"Lng\"]].to_numpy()\n",
    "start=random.choice(country_choices)\n",
    "end=start\n",
    "\n",
    "\n",
    "stop1=tuple(random.choice(country_choices))\n",
    "stop2=tuple(random.choice(country_choices))\n",
    "stop3=tuple(random.choice(country_choices))\n"
   ]
  },
  {
   "cell_type": "code",
   "execution_count": 35,
   "metadata": {},
   "outputs": [],
   "source": [
    "\n",
    "# 6. Create DataFrames for each city by filtering the 'vacation_df' using the loc method.\n",
    "start_df = vacation_df.loc[(vacation_df.Lat==start[0]) & (vacation_df.Lng==start[1])]\n",
    "end_df = vacation_df.loc[(vacation_df.Lat==end[0])& (vacation_df.Lng==end[1])]\n",
    "stop1_df = vacation_df.loc[(vacation_df.Lat==stop1[0]) & (vacation_df.Lng==stop1[1])]\n",
    "stop2_df = vacation_df.loc[(vacation_df.Lat==stop2[0]) & (vacation_df.Lng==stop2[1])]\n",
    "stop3_df = vacation_df.loc[(vacation_df.Lat==stop3[0]) & (vacation_df.Lng==stop3[1])]\n"
   ]
  },
  {
   "cell_type": "code",
   "execution_count": 36,
   "metadata": {
    "scrolled": true
   },
   "outputs": [
    {
     "data": {
      "application/vnd.jupyter.widget-view+json": {
       "model_id": "85fcd5041b2f4a678d670fd164c1ae06",
       "version_major": 2,
       "version_minor": 0
      },
      "text/plain": [
       "Figure(layout=FigureLayout(height='420px'))"
      ]
     },
     "metadata": {},
     "output_type": "display_data"
    }
   ],
   "source": [
    "# 7. Create a direction layer map using the start and end latitude-longitude pairs,\n",
    "# and stop1, stop2, and stop3 as the waypoints. The travel_mode should be \"DRIVING\", \"BICYCLING\", or \"WALKING\".\n",
    "\n",
    "fig = gmaps.figure()\n",
    "directions=gmaps.directions_layer(start,end,waypoints=[stop2,stop1,stop3],travel_mode=\"DRIVING\")\n",
    "fig.add_layer(directions)\n",
    "\n",
    "\n",
    "# 11b. Display the figure\n",
    "# Add a heatmap of temperature for the vacation spots and a pop-up marker for each city.\n",
    "\n",
    "# Call the figure to plot the data.\n",
    "fig"
   ]
  },
  {
   "cell_type": "code",
   "execution_count": 56,
   "metadata": {},
   "outputs": [
    {
     "data": {
      "text/html": [
       "<div>\n",
       "<style scoped>\n",
       "    .dataframe tbody tr th:only-of-type {\n",
       "        vertical-align: middle;\n",
       "    }\n",
       "\n",
       "    .dataframe tbody tr th {\n",
       "        vertical-align: top;\n",
       "    }\n",
       "\n",
       "    .dataframe thead th {\n",
       "        text-align: right;\n",
       "    }\n",
       "</style>\n",
       "<table border=\"1\" class=\"dataframe\">\n",
       "  <thead>\n",
       "    <tr style=\"text-align: right;\">\n",
       "      <th></th>\n",
       "      <th>City_ID</th>\n",
       "      <th>City</th>\n",
       "      <th>Country</th>\n",
       "      <th>Max_Temp</th>\n",
       "      <th>Weather_Description</th>\n",
       "      <th>Lat</th>\n",
       "      <th>Lng</th>\n",
       "      <th>Hotel Name</th>\n",
       "    </tr>\n",
       "  </thead>\n",
       "  <tbody>\n",
       "    <tr>\n",
       "      <th>0</th>\n",
       "      <td>598</td>\n",
       "      <td>russell</td>\n",
       "      <td>US</td>\n",
       "      <td>69.80</td>\n",
       "      <td>overcast clouds</td>\n",
       "      <td>32.35</td>\n",
       "      <td>-85.20</td>\n",
       "      <td>Macs</td>\n",
       "    </tr>\n",
       "    <tr>\n",
       "      <th>2</th>\n",
       "      <td>59</td>\n",
       "      <td>eureka</td>\n",
       "      <td>US</td>\n",
       "      <td>60.01</td>\n",
       "      <td>broken clouds</td>\n",
       "      <td>40.80</td>\n",
       "      <td>-124.16</td>\n",
       "      <td>Eureka Inn Trademark By Wyndham</td>\n",
       "    </tr>\n",
       "    <tr>\n",
       "      <th>3</th>\n",
       "      <td>73</td>\n",
       "      <td>yarmouth</td>\n",
       "      <td>US</td>\n",
       "      <td>64.40</td>\n",
       "      <td>broken clouds</td>\n",
       "      <td>41.71</td>\n",
       "      <td>-70.23</td>\n",
       "      <td>The Inn At Cape Cod</td>\n",
       "    </tr>\n",
       "    <tr>\n",
       "      <th>4</th>\n",
       "      <td>726</td>\n",
       "      <td>del rio</td>\n",
       "      <td>US</td>\n",
       "      <td>75.20</td>\n",
       "      <td>clear sky</td>\n",
       "      <td>29.36</td>\n",
       "      <td>-100.90</td>\n",
       "      <td>Holiday Inn Express &amp; Suites del Rio</td>\n",
       "    </tr>\n",
       "  </tbody>\n",
       "</table>\n",
       "</div>"
      ],
      "text/plain": [
       "   City_ID      City Country  Max_Temp Weather_Description    Lat     Lng  \\\n",
       "0      598   russell      US     69.80     overcast clouds  32.35  -85.20   \n",
       "2       59    eureka      US     60.01       broken clouds  40.80 -124.16   \n",
       "3       73  yarmouth      US     64.40       broken clouds  41.71  -70.23   \n",
       "4      726   del rio      US     75.20           clear sky  29.36 -100.90   \n",
       "\n",
       "                             Hotel Name  \n",
       "0                                  Macs  \n",
       "2       Eureka Inn Trademark By Wyndham  \n",
       "3                   The Inn At Cape Cod  \n",
       "4  Holiday Inn Express & Suites del Rio  "
      ]
     },
     "execution_count": 56,
     "metadata": {},
     "output_type": "execute_result"
    }
   ],
   "source": [
    "# 8. To create a marker layer map between the four cities.\n",
    "#  Combine the four city DataFrames into one DataFrame using the concat() function.\n",
    "itinerary_df = pd.concat([start_df,end_df,stop1_df,stop2_df,stop3_df],ignore_index=True).drop_duplicates()\n",
    "itinerary_df"
   ]
  },
  {
   "cell_type": "code",
   "execution_count": 59,
   "metadata": {
    "scrolled": true
   },
   "outputs": [
    {
     "data": {
      "application/vnd.jupyter.widget-view+json": {
       "model_id": "4f41f71323944b52b6dfce4a96fc64e2",
       "version_major": 2,
       "version_minor": 0
      },
      "text/plain": [
       "Figure(layout=FigureLayout(height='420px'))"
      ]
     },
     "metadata": {},
     "output_type": "display_data"
    }
   ],
   "source": [
    "# 9 Using the template add city name, the country code, the weather description and maximum temperature for the city. \n",
    "info_box_template = \"\"\"\n",
    "<dl>\n",
    "<dt>City</dt><dd>{City}</dd>\n",
    "<dt>Country</dt><dd>{Country}</dd>\n",
    "<dt>Current Weather Description</dt><dd>{Weather_Description}</dd>\n",
    "<dt>Max Temp</dt><dd>{Max_Temp} °F</dd>\n",
    "</dl>\n",
    "\"\"\"\n",
    "\n",
    "# 10a Get the data from each row and add it to the formatting template and store the data in a list.\n",
    "city_info = [info_box_template.format(**row) for index, row in itinerary_df.iterrows()]\n",
    "\n",
    "# 10b. Get the latitude and longitude from each row and store in a new DataFrame.\n",
    "locations = itinerary_df[[\"Lat\", \"Lng\"]]\n",
    "# 11a. Add a marker layer for each city to the map.\n",
    "fig2=gmaps.figure()\n",
    "markers = gmaps.marker_layer(locations, info_box_content=city_info)\n",
    "# 11b. Display the figure\n",
    "fig2.add_layer(markers)\n",
    "fig2"
   ]
  },
  {
   "cell_type": "code",
   "execution_count": null,
   "metadata": {},
   "outputs": [],
   "source": []
  }
 ],
 "metadata": {
  "kernelspec": {
   "display_name": "minicondavenv_bootcamp",
   "language": "python",
   "name": "minicondavenv_bootcamp"
  },
  "language_info": {
   "codemirror_mode": {
    "name": "ipython",
    "version": 3
   },
   "file_extension": ".py",
   "mimetype": "text/x-python",
   "name": "python",
   "nbconvert_exporter": "python",
   "pygments_lexer": "ipython3",
   "version": "3.7.6"
  },
  "latex_envs": {
   "LaTeX_envs_menu_present": true,
   "autoclose": false,
   "autocomplete": true,
   "bibliofile": "biblio.bib",
   "cite_by": "apalike",
   "current_citInitial": 1,
   "eqLabelWithNumbers": true,
   "eqNumInitial": 1,
   "hotkeys": {
    "equation": "Ctrl-E",
    "itemize": "Ctrl-I"
   },
   "labels_anchors": false,
   "latex_user_defs": false,
   "report_style_numbering": false,
   "user_envs_cfg": false
  }
 },
 "nbformat": 4,
 "nbformat_minor": 2
}
